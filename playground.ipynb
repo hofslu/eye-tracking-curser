{
 "cells": [
  {
   "attachments": {},
   "cell_type": "markdown",
   "metadata": {},
   "source": [
    "# Mediapipe eye traking to curser"
   ]
  },
  {
   "attachments": {},
   "cell_type": "markdown",
   "metadata": {},
   "source": [
    "## Research\n",
    "- mediapipe: Iris-module for eye detection\n",
    "- cv2: image rendering (debug)\n",
    "- pyautogui: curser-controll\n",
    "<br>\n",
    "<br>\n",
    "- Tutorial: https://medium.com/mlearning-ai/iris-segmentation-mediapipe-python-a4deb711aae3"
   ]
  },
  {
   "cell_type": "code",
   "execution_count": 3,
   "metadata": {},
   "outputs": [
    {
     "name": "stdout",
     "output_type": "stream",
     "text": [
      "Requirement already satisfied: mediapipe in /home/lukas/miniconda3/lib/python3.10/site-packages (0.9.1.0)\n",
      "Requirement already satisfied: flatbuffers>=2.0 in /home/lukas/miniconda3/lib/python3.10/site-packages (from mediapipe) (23.1.21)\n",
      "Requirement already satisfied: absl-py in /home/lukas/miniconda3/lib/python3.10/site-packages (from mediapipe) (1.4.0)\n",
      "Requirement already satisfied: attrs>=19.1.0 in /home/lukas/miniconda3/lib/python3.10/site-packages (from mediapipe) (22.2.0)\n",
      "Requirement already satisfied: matplotlib in /home/lukas/miniconda3/lib/python3.10/site-packages (from mediapipe) (3.6.3)\n",
      "Requirement already satisfied: numpy in /home/lukas/miniconda3/lib/python3.10/site-packages (from mediapipe) (1.24.2)\n",
      "Requirement already satisfied: opencv-contrib-python in /home/lukas/miniconda3/lib/python3.10/site-packages (from mediapipe) (4.7.0.68)\n",
      "Requirement already satisfied: protobuf<4,>=3.11 in /home/lukas/miniconda3/lib/python3.10/site-packages (from mediapipe) (3.20.3)\n",
      "Requirement already satisfied: contourpy>=1.0.1 in /home/lukas/miniconda3/lib/python3.10/site-packages (from matplotlib->mediapipe) (1.0.7)\n",
      "Requirement already satisfied: pyparsing>=2.2.1 in /home/lukas/miniconda3/lib/python3.10/site-packages (from matplotlib->mediapipe) (3.0.9)\n",
      "Requirement already satisfied: kiwisolver>=1.0.1 in /home/lukas/miniconda3/lib/python3.10/site-packages (from matplotlib->mediapipe) (1.4.4)\n",
      "Requirement already satisfied: python-dateutil>=2.7 in /home/lukas/miniconda3/lib/python3.10/site-packages (from matplotlib->mediapipe) (2.8.2)\n",
      "Requirement already satisfied: cycler>=0.10 in /home/lukas/miniconda3/lib/python3.10/site-packages (from matplotlib->mediapipe) (0.11.0)\n",
      "Requirement already satisfied: packaging>=20.0 in /home/lukas/miniconda3/lib/python3.10/site-packages (from matplotlib->mediapipe) (23.0)\n",
      "Requirement already satisfied: fonttools>=4.22.0 in /home/lukas/miniconda3/lib/python3.10/site-packages (from matplotlib->mediapipe) (4.38.0)\n",
      "Requirement already satisfied: pillow>=6.2.0 in /home/lukas/miniconda3/lib/python3.10/site-packages (from matplotlib->mediapipe) (9.4.0)\n",
      "Requirement already satisfied: six>=1.5 in /home/lukas/miniconda3/lib/python3.10/site-packages (from python-dateutil>=2.7->matplotlib->mediapipe) (1.16.0)\n",
      "Collecting pyautogui\n",
      "  Downloading PyAutoGUI-0.9.53.tar.gz (59 kB)\n",
      "\u001b[2K     \u001b[90m━━━━━━━━━━━━━━━━━━━━━━━━━━━━━━━━━━━━━━━━\u001b[0m \u001b[32m59.0/59.0 kB\u001b[0m \u001b[31m1.6 MB/s\u001b[0m eta \u001b[36m0:00:00\u001b[0m\n",
      "\u001b[?25h  Preparing metadata (setup.py) ... \u001b[?25ldone\n",
      "\u001b[?25hCollecting pymsgbox\n",
      "  Downloading PyMsgBox-1.0.9.tar.gz (18 kB)\n",
      "  Installing build dependencies ... \u001b[?25ldone\n",
      "\u001b[?25h  Getting requirements to build wheel ... \u001b[?25ldone\n",
      "\u001b[?25h  Preparing metadata (pyproject.toml) ... \u001b[?25ldone\n",
      "\u001b[?25hCollecting PyTweening>=1.0.1\n",
      "  Downloading pytweening-1.0.4.tar.gz (14 kB)\n",
      "  Preparing metadata (setup.py) ... \u001b[?25ldone\n",
      "\u001b[?25hCollecting pyscreeze>=0.1.21\n",
      "  Downloading PyScreeze-0.1.28.tar.gz (25 kB)\n",
      "  Installing build dependencies ... \u001b[?25ldone\n",
      "\u001b[?25h  Getting requirements to build wheel ... \u001b[?25ldone\n",
      "\u001b[?25h  Preparing metadata (pyproject.toml) ... \u001b[?25ldone\n",
      "\u001b[?25hCollecting pygetwindow>=0.0.5\n",
      "  Downloading PyGetWindow-0.0.9.tar.gz (9.7 kB)\n",
      "  Preparing metadata (setup.py) ... \u001b[?25ldone\n",
      "\u001b[?25hCollecting mouseinfo\n",
      "  Downloading MouseInfo-0.1.3.tar.gz (10 kB)\n",
      "  Preparing metadata (setup.py) ... \u001b[?25ldone\n",
      "\u001b[?25hCollecting python3-Xlib\n",
      "  Downloading python3-xlib-0.15.tar.gz (132 kB)\n",
      "\u001b[2K     \u001b[90m━━━━━━━━━━━━━━━━━━━━━━━━━━━━━━━━━━━━━━━\u001b[0m \u001b[32m132.8/132.8 kB\u001b[0m \u001b[31m4.3 MB/s\u001b[0m eta \u001b[36m0:00:00\u001b[0m\n",
      "\u001b[?25h  Preparing metadata (setup.py) ... \u001b[?25ldone\n",
      "\u001b[?25hCollecting pyrect\n",
      "  Downloading PyRect-0.2.0.tar.gz (17 kB)\n",
      "  Preparing metadata (setup.py) ... \u001b[?25ldone\n",
      "\u001b[?25hCollecting pyperclip\n",
      "  Downloading pyperclip-1.8.2.tar.gz (20 kB)\n",
      "  Preparing metadata (setup.py) ... \u001b[?25ldone\n",
      "\u001b[?25hBuilding wheels for collected packages: pyautogui, pygetwindow, pyscreeze, PyTweening, mouseinfo, pymsgbox, python3-Xlib, pyperclip, pyrect\n",
      "  Building wheel for pyautogui (setup.py) ... \u001b[?25ldone\n",
      "\u001b[?25h  Created wheel for pyautogui: filename=PyAutoGUI-0.9.53-py3-none-any.whl size=36601 sha256=d1c5bab8124e1c642f007c3504f3b6b4ea143095cd540db01674dab59b5472d1\n",
      "  Stored in directory: /home/lukas/.cache/pip/wheels/f3/5a/96/45dbf918cc12979b2068357eb22c87875e2aeedcda080ec286\n",
      "  Building wheel for pygetwindow (setup.py) ... \u001b[?25ldone\n",
      "\u001b[?25h  Created wheel for pygetwindow: filename=PyGetWindow-0.0.9-py3-none-any.whl size=11063 sha256=3d41b248bb6ce9aa1241c3440fb461f8bcb5ec7f92ca002f60bf3fa450c98439\n",
      "  Stored in directory: /home/lukas/.cache/pip/wheels/b4/ba/41/c09cef95c23cdfed6af9df7328306fafbf27df2e77b14d25d7\n",
      "  Building wheel for pyscreeze (pyproject.toml) ... \u001b[?25ldone\n",
      "\u001b[?25h  Created wheel for pyscreeze: filename=PyScreeze-0.1.28-py3-none-any.whl size=13009 sha256=548e5e34943577c14a3c888d870310b9d0b5179ee07a6137ee70e9ef60aec1d5\n",
      "  Stored in directory: /home/lukas/.cache/pip/wheels/f7/3c/82/2e45b77cc2efeb7db09eb00bae84c0b3f6d80683c20e98394b\n",
      "  Building wheel for PyTweening (setup.py) ... \u001b[?25ldone\n",
      "\u001b[?25h  Created wheel for PyTweening: filename=pytweening-1.0.4-py3-none-any.whl size=5838 sha256=6fb8a409675cd97b7faf487ecea8f75b1c725e4b366b7bb864f667447d1b54cc\n",
      "  Stored in directory: /home/lukas/.cache/pip/wheels/a9/0e/81/0503c4297d583d64ff536b82a4e4db07338b204fc531124a78\n",
      "  Building wheel for mouseinfo (setup.py) ... \u001b[?25ldone\n",
      "\u001b[?25h  Created wheel for mouseinfo: filename=MouseInfo-0.1.3-py3-none-any.whl size=10891 sha256=97c56b1fda9bbce339cfdec429b11a47b5a4b925537912bbfe82efa6bdcd4ed6\n",
      "  Stored in directory: /home/lukas/.cache/pip/wheels/52/e8/77/5f70ba97301c6d825754eea9f12f0ffd00e119fba64a68f4d2\n",
      "  Building wheel for pymsgbox (pyproject.toml) ... \u001b[?25ldone\n",
      "\u001b[?25h  Created wheel for pymsgbox: filename=PyMsgBox-1.0.9-py3-none-any.whl size=7405 sha256=287881dffc86013ef12f026c94c798ffb964a4ce9e51b8596aa4147cdb7bf808\n",
      "  Stored in directory: /home/lukas/.cache/pip/wheels/97/61/22/1a0de2324b204d675c5bfb28b944101eb48dcf1a1fe87bcce7\n",
      "  Building wheel for python3-Xlib (setup.py) ... \u001b[?25ldone\n",
      "\u001b[?25h  Created wheel for python3-Xlib: filename=python3_xlib-0.15-py3-none-any.whl size=109501 sha256=ae2f391ef1aa50d9d3efc7f737f01c9fa10d297c45044e2fda3af018285d4c8a\n",
      "  Stored in directory: /home/lukas/.cache/pip/wheels/b8/8c/22/676ba8cc92e2e5929568776e44d123a7365793bcbf8e6ca80e\n",
      "  Building wheel for pyperclip (setup.py) ... \u001b[?25ldone\n",
      "\u001b[?25h  Created wheel for pyperclip: filename=pyperclip-1.8.2-py3-none-any.whl size=11123 sha256=08485d3cbeb8e9dac777f9a97ca71ba01878be1406965b3c3a2b3fd7c97b84a2\n",
      "  Stored in directory: /home/lukas/.cache/pip/wheels/3c/77/81/aaa2802e9b0553585f2789c6f2756b50a09a01d2848423bb15\n",
      "  Building wheel for pyrect (setup.py) ... \u001b[?25ldone\n",
      "\u001b[?25h  Created wheel for pyrect: filename=PyRect-0.2.0-py2.py3-none-any.whl size=11179 sha256=90f0e8c9d6066b41115ccba48459370752c82a0e8fbf975c71c6a0991fc4ef92\n",
      "  Stored in directory: /home/lukas/.cache/pip/wheels/63/0e/55/adb1553ad973caacffc0bd779f74f4749f904da246674a26a1\n",
      "Successfully built pyautogui pygetwindow pyscreeze PyTweening mouseinfo pymsgbox python3-Xlib pyperclip pyrect\n",
      "Installing collected packages: PyTweening, python3-Xlib, pyscreeze, pyrect, pyperclip, pymsgbox, pygetwindow, mouseinfo, pyautogui\n",
      "Successfully installed PyTweening-1.0.4 mouseinfo-0.1.3 pyautogui-0.9.53 pygetwindow-0.0.9 pymsgbox-1.0.9 pyperclip-1.8.2 pyrect-0.2.0 pyscreeze-0.1.28 python3-Xlib-0.15\n"
     ]
    }
   ],
   "source": [
    "!pip install mediapipe\n",
    "!pip install pyautogui"
   ]
  },
  {
   "cell_type": "code",
   "execution_count": 112,
   "metadata": {},
   "outputs": [
    {
     "ename": "AttributeError",
     "evalue": "module 'mediapipe' has no attribute 'solution'",
     "output_type": "error",
     "traceback": [
      "\u001b[0;31m---------------------------------------------------------------------------\u001b[0m",
      "\u001b[0;31mAttributeError\u001b[0m                            Traceback (most recent call last)",
      "Cell \u001b[0;32mIn[112], line 6\u001b[0m\n\u001b[1;32m      3\u001b[0m \u001b[39mimport\u001b[39;00m \u001b[39mcv2\u001b[39;00m \u001b[39mas\u001b[39;00m \u001b[39mcv\u001b[39;00m \n\u001b[1;32m      4\u001b[0m \u001b[39mimport\u001b[39;00m \u001b[39mnumpy\u001b[39;00m \u001b[39mas\u001b[39;00m \u001b[39mnp\u001b[39;00m\n\u001b[0;32m----> 6\u001b[0m mp_face_mesh \u001b[39m=\u001b[39m mp\u001b[39m.\u001b[39;49msolution\u001b[39m.\u001b[39mface_mesh\n",
      "\u001b[0;31mAttributeError\u001b[0m: module 'mediapipe' has no attribute 'solution'"
     ]
    }
   ],
   "source": [
    "import mediapipe as mp\n",
    "import pyautogui\n",
    "import cv2 as cv \n",
    "import numpy as np\n",
    "\n",
    "# mp_face_mesh = mp.solution.face_mesh"
   ]
  },
  {
   "cell_type": "code",
   "execution_count": 110,
   "metadata": {},
   "outputs": [],
   "source": [
    "# curer bounderies\n",
    "left = 1200\n",
    "right = left + 1900\n",
    "top = 0\n",
    "bottom = 1080\n",
    "pyautogui.moveTo(right, bottom)"
   ]
  },
  {
   "cell_type": "code",
   "execution_count": null,
   "metadata": {},
   "outputs": [],
   "source": []
  }
 ],
 "metadata": {
  "kernelspec": {
   "display_name": "base",
   "language": "python",
   "name": "python3"
  },
  "language_info": {
   "codemirror_mode": {
    "name": "ipython",
    "version": 3
   },
   "file_extension": ".py",
   "mimetype": "text/x-python",
   "name": "python",
   "nbconvert_exporter": "python",
   "pygments_lexer": "ipython3",
   "version": "3.10.8"
  },
  "orig_nbformat": 4,
  "vscode": {
   "interpreter": {
    "hash": "7dbb72f81056b0197502b899ef4b7b4c76295b5de2732d229a632e5bb4cf0aa2"
   }
  }
 },
 "nbformat": 4,
 "nbformat_minor": 2
}
